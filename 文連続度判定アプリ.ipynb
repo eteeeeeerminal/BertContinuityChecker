{
  "nbformat": 4,
  "nbformat_minor": 0,
  "metadata": {
    "colab": {
      "name": "文連続度判定アプリ.ipynb",
      "provenance": [],
      "collapsed_sections": [],
      "toc_visible": true,
      "authorship_tag": "ABX9TyNoDJjdL7u+PU4kTh7FmMkR",
      "include_colab_link": true
    },
    "kernelspec": {
      "name": "python3",
      "display_name": "Python 3"
    },
    "accelerator": "GPU"
  },
  "cells": [
    {
      "cell_type": "markdown",
      "metadata": {
        "id": "view-in-github",
        "colab_type": "text"
      },
      "source": [
        "<a href=\"https://colab.research.google.com/github/eteeeeeerminal/BertContinuityChecker/blob/master/%E6%96%87%E9%80%A3%E7%B6%9A%E5%BA%A6%E5%88%A4%E5%AE%9A%E3%82%A2%E3%83%97%E3%83%AA.ipynb\" target=\"_parent\"><img src=\"https://colab.research.google.com/assets/colab-badge.svg\" alt=\"Open In Colab\"/></a>"
      ]
    },
    {
      "cell_type": "markdown",
      "metadata": {
        "id": "l1Y8vsC7kjWf"
      },
      "source": [
        "# 文章の連続度を解析する深層学習アプリを動かすコード\r\n",
        "\r\n",
        "\r\n",
        "↓以下の記事を参考に, ngrokで簡易web appを作動させる \\\r\n",
        "https://qiita.com/a2kiti/items/a6ae6715033bf22f7afc\r\n",
        "\r\n",
        "# テキストに書いてあるとおりに、上から順番にコードを実行する\r\n",
        "\r\n",
        "簡単にするために, 私が公開しているファイルをダウンロードして使用する \\\r\n",
        "実行のたびにダウンロードが入って遅くなるので, 以下の記事等を参考にして自分のdriveから読みこむのもアリ \\\r\n",
        "https://qiita.com/k_uekado/items/45b76f9a6f920bf0f786 \\\r\n",
        "その場合, ソースコードの中身のパスを書き換える必要がある\r\n"
      ]
    },
    {
      "cell_type": "markdown",
      "metadata": {
        "id": "PLpZKSy8jp-I"
      },
      "source": [
        "即席サーバー用に ngrokのダウンロード\r\n"
      ]
    },
    {
      "cell_type": "code",
      "metadata": {
        "id": "u8d-840QjK-E"
      },
      "source": [
        "!wget https://bin.equinox.io/c/4VmDzA7iaHb/ngrok-stable-linux-amd64.zip\r\n",
        "!unzip ngrok-stable-linux-amd64.zip"
      ],
      "execution_count": null,
      "outputs": []
    },
    {
      "cell_type": "markdown",
      "metadata": {
        "id": "ELP3dab_jyph"
      },
      "source": [
        "ngrok の設定。出てきたURLでweb appが使えるようになる\\\r\n",
        "何回か実行するとURLが出てくる。\r\n"
      ]
    },
    {
      "cell_type": "code",
      "metadata": {
        "id": "cDJ0lKDhkL9l"
      },
      "source": [
        "get_ipython().system_raw('./ngrok http 6006 &')\r\n",
        "! curl -s http://localhost:4040/api/tunnels | python3 -c \\\r\n",
        "    \"import sys, json; print(json.load(sys.stdin)['tunnels'][0]['public_url'])\""
      ],
      "execution_count": null,
      "outputs": []
    },
    {
      "cell_type": "markdown",
      "metadata": {
        "id": "pyrBs9Q6lgF0"
      },
      "source": [
        "ライブラリとコードのダウンロード"
      ]
    },
    {
      "cell_type": "code",
      "metadata": {
        "id": "ovJ43ozqo131"
      },
      "source": [
        "!git clone https://github.com/eteeeeeerminal/BertContinuityChecker.git\r\n",
        "!pip install git+https://github.com/eteeeeeerminal/transformers.git\r\n",
        "!apt install git make curl xz-utils file\r\n",
        "!apt install mecab libmecab-dev mecab-ipadic mecab-ipadic-utf8\r\n",
        "!pip install mecab-python3==0.996.5"
      ],
      "execution_count": null,
      "outputs": []
    },
    {
      "cell_type": "markdown",
      "metadata": {
        "id": "ab1RBgOMoDi4"
      },
      "source": [
        "モデルのダウンロード"
      ]
    },
    {
      "cell_type": "code",
      "metadata": {
        "id": "ISSCNw-2U07W"
      },
      "source": [
        "!python BertContinuityChecker/model_download.py\r\n",
        "!unzip bert_output.zip"
      ],
      "execution_count": 59,
      "outputs": []
    },
    {
      "cell_type": "markdown",
      "metadata": {
        "id": "qJqmRSjlemwh"
      },
      "source": [
        "アプリの実行\r\n"
      ]
    },
    {
      "cell_type": "code",
      "metadata": {
        "id": "HLw91uv7eozz"
      },
      "source": [
        "!python BertContinuityChecker/src/BertContinuityChecker/web_app.py bert_output/par_sent/checkpoint-280000/pytorch_model.bin bert_output/serial_sent/checkpoint-480000/pytorch_model.bin"
      ],
      "execution_count": null,
      "outputs": []
    }
  ]
}